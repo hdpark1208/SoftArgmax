{
 "cells": [
  {
   "cell_type": "markdown",
   "id": "5b18c5f4-d9a7-47d3-99ab-c1581e4715b6",
   "metadata": {},
   "source": [
    "* [1] https://github.com/hdpark1208/SoftArgmax/blob/main/SoftArgmax/SoftArgmax.pdf\n",
    "* [2] https://www.notion.so/SoftArgmax-d3acaa6e4f664c90bed952507acc5818"
   ]
  },
  {
   "cell_type": "code",
   "execution_count": 2,
   "id": "65c9db93-39a9-4cdb-b9ad-902341c3ef7d",
   "metadata": {},
   "outputs": [],
   "source": [
    "import numpy as np"
   ]
  },
  {
   "cell_type": "code",
   "execution_count": 5,
   "id": "15051661-ba5c-4be2-8dd1-f16845ff71d9",
   "metadata": {},
   "outputs": [
    {
     "name": "stdout",
     "output_type": "stream",
     "text": [
      "[ 2.71828183  7.3890561  20.08553692]\n"
     ]
    },
    {
     "data": {
      "text/plain": [
       "30.19287485057736"
      ]
     },
     "execution_count": 5,
     "metadata": {},
     "output_type": "execute_result"
    }
   ],
   "source": [
    "a = np.array([1,2,3])\n",
    "b = np.exp(a)\n",
    "print(b)\n",
    "c = sum(b)\n",
    "c"
   ]
  },
  {
   "cell_type": "code",
   "execution_count": 16,
   "id": "959a8206-5bf8-4839-b933-d5ee8b0cc652",
   "metadata": {},
   "outputs": [],
   "source": [
    "def softmax(X, i):\n",
    "    exp_X = np.exp(X)\n",
    "    sum_exp_X = sum(exp_X)\n",
    "    result = exp_X[i] / sum_exp_X\n",
    "    return result"
   ]
  },
  {
   "cell_type": "code",
   "execution_count": 17,
   "id": "4cbda95c-4b76-4552-b951-f321b30d1ead",
   "metadata": {},
   "outputs": [],
   "source": [
    "def softArgmax(X):\n",
    "    # exp_X = np.exp(X)\n",
    "    # sum_exp_X = sum(exp_X)\n",
    "    result = 0\n",
    "    for idx in range(len(X)):\n",
    "        result += softmax(X,idx) * idx\n",
    "        \n",
    "    return result"
   ]
  },
  {
   "cell_type": "code",
   "execution_count": 20,
   "id": "54d8e0d4-1275-4168-af00-732727363a43",
   "metadata": {},
   "outputs": [],
   "source": [
    "def SA_i(X, i):\n",
    "    result = softmax(X, i) * i\n",
    "    return result"
   ]
  },
  {
   "cell_type": "code",
   "execution_count": 23,
   "id": "42cefd9a-589d-44e8-b8be-f480de7a0292",
   "metadata": {},
   "outputs": [],
   "source": [
    "def softArgmax_D(X, j): # j is index of element which in X (X= x_0, x_1, ..., x_j, ... , x_n)\n",
    "    # SA_i = (softmax(X,i) * i) / x_j\n",
    "    \n",
    "    # Ref [1] - (16)의 첫번째 항\n",
    "    term_1 = 0\n",
    "    for i in range(len(X)):\n",
    "        term_1 += SA_i(X, i)\n",
    "    term_1 *= -1 * softmax(X,j)\n",
    "    \n",
    "    # Ref [1] - (16)의 두번째 항\n",
    "    term_2 = SA_i(X, j)\n",
    "    \n",
    "    # Ref [1] - (16)의 세번째 항\n",
    "    term_3 = softmax(X, j)\n",
    "    \n",
    "    result = term_1 + term_2 + term_3\n",
    "    return result\n",
    "    "
   ]
  },
  {
   "cell_type": "code",
   "execution_count": 27,
   "id": "958dd362-363a-4437-b116-671c42d82434",
   "metadata": {},
   "outputs": [
    {
     "name": "stdout",
     "output_type": "stream",
     "text": [
      "softmax:  0.9976263485058666\n",
      "softArgmax:  5.000820194805603\n",
      "SA_i:  4.988131742529333\n",
      "softArgmax_D:  0.99680810055689\n"
     ]
    }
   ],
   "source": [
    "A = [1,2,0,1,2,10,2,1,3,0] # idx: 5의 근사값\n",
    "print('softmax: ',softmax(A,5))\n",
    "print('softArgmax: ',softArgmax(A))\n",
    "print('SA_i: ',SA_i(A,5))\n",
    "print('softArgmax_D: ',softArgmax_D(A,5))"
   ]
  },
  {
   "cell_type": "code",
   "execution_count": 28,
   "id": "6d4bcd18-6dee-469a-b225-835d3ac0fe71",
   "metadata": {},
   "outputs": [
    {
     "name": "stdout",
     "output_type": "stream",
     "text": [
      "softArgmax_D with idx 0: -0.0004925684687023515\n",
      "softArgmax_D with idx 1: -0.0010042735612109351\n",
      "softArgmax_D with idx 2: -9.062148070215301e-05\n",
      "softArgmax_D with idx 3: -0.00012321785203989614\n",
      "softArgmax_D with idx 4: -2.7449160723964873e-07\n",
      "softArgmax_D with idx 5: 0.99680810055689\n",
      "softArgmax_D with idx 6: 0.0006690582214618906\n",
      "softArgmax_D with idx 7: 0.0003692496368433778\n",
      "softArgmax_D with idx 8: 0.0036381237567099933\n",
      "softArgmax_D with idx 9: 0.00022642368235744104\n"
     ]
    }
   ],
   "source": [
    "for idx in range(len(A)):\n",
    "    print('softArgmax_D with idx {}: {}'.format(idx,softArgmax_D(A,idx)))"
   ]
  },
  {
   "cell_type": "code",
   "execution_count": null,
   "id": "3df25691-d1e2-4d38-8b62-ec47ebf6b7ba",
   "metadata": {},
   "outputs": [],
   "source": []
  }
 ],
 "metadata": {
  "kernelspec": {
   "display_name": "tf1",
   "language": "python",
   "name": "tf1"
  },
  "language_info": {
   "codemirror_mode": {
    "name": "ipython",
    "version": 3
   },
   "file_extension": ".py",
   "mimetype": "text/x-python",
   "name": "python",
   "nbconvert_exporter": "python",
   "pygments_lexer": "ipython3",
   "version": "3.9.7"
  }
 },
 "nbformat": 4,
 "nbformat_minor": 5
}
